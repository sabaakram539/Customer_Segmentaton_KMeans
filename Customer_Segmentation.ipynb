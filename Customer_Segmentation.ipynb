{
  "nbformat": 4,
  "nbformat_minor": 0,
  "metadata": {
    "colab": {
      "name": "Customer_Segmentation.ipynb",
      "provenance": [],
      "authorship_tag": "ABX9TyOrjFvxnb+bdKz4Un5CmvGC",
      "include_colab_link": true
    },
    "kernelspec": {
      "name": "python3",
      "display_name": "Python 3"
    },
    "language_info": {
      "name": "python"
    }
  },
  "cells": [
    {
      "cell_type": "markdown",
      "metadata": {
        "id": "view-in-github",
        "colab_type": "text"
      },
      "source": [
        "<a href=\"https://colab.research.google.com/github/sabaakram539/Customer_Segmentaton_KMeans/blob/main/Customer_Segmentation.ipynb\" target=\"_parent\"><img src=\"https://colab.research.google.com/assets/colab-badge.svg\" alt=\"Open In Colab\"/></a>"
      ]
    },
    {
      "cell_type": "markdown",
      "metadata": {
        "id": "Vbhc5dCoTBUm"
      },
      "source": [
        "# **Problem Statement**\n",
        "In this project, we are going to build a customer segmentation model using kmeans clustering. The dataset has been taken from the Kaggle."
      ]
    },
    {
      "cell_type": "code",
      "metadata": {
        "id": "wf4QnPuESXKK"
      },
      "source": [
        "import pandas as pd\n",
        "import numpy as np\n",
        "import matplotlib.pyplot as plt\n",
        "import seaborn as sns\n",
        "from sklearn.cluster import KMeans"
      ],
      "execution_count": null,
      "outputs": []
    },
    {
      "cell_type": "code",
      "metadata": {
        "colab": {
          "base_uri": "https://localhost:8080/",
          "height": 202
        },
        "id": "Ool1UsQJSsRl",
        "outputId": "83fae98f-f4b2-4030-c36a-3c0ba4ac9480"
      },
      "source": [
        "data=pd.read_csv(\"/content/Mall_Customers.csv\")\n",
        "data.head(5)"
      ],
      "execution_count": null,
      "outputs": [
        {
          "output_type": "execute_result",
          "data": {
            "text/html": [
              "<div>\n",
              "<style scoped>\n",
              "    .dataframe tbody tr th:only-of-type {\n",
              "        vertical-align: middle;\n",
              "    }\n",
              "\n",
              "    .dataframe tbody tr th {\n",
              "        vertical-align: top;\n",
              "    }\n",
              "\n",
              "    .dataframe thead th {\n",
              "        text-align: right;\n",
              "    }\n",
              "</style>\n",
              "<table border=\"1\" class=\"dataframe\">\n",
              "  <thead>\n",
              "    <tr style=\"text-align: right;\">\n",
              "      <th></th>\n",
              "      <th>CustomerID</th>\n",
              "      <th>Gender</th>\n",
              "      <th>Age</th>\n",
              "      <th>Annual Income (k$)</th>\n",
              "      <th>Spending Score (1-100)</th>\n",
              "    </tr>\n",
              "  </thead>\n",
              "  <tbody>\n",
              "    <tr>\n",
              "      <th>0</th>\n",
              "      <td>1</td>\n",
              "      <td>Male</td>\n",
              "      <td>19</td>\n",
              "      <td>15</td>\n",
              "      <td>39</td>\n",
              "    </tr>\n",
              "    <tr>\n",
              "      <th>1</th>\n",
              "      <td>2</td>\n",
              "      <td>Male</td>\n",
              "      <td>21</td>\n",
              "      <td>15</td>\n",
              "      <td>81</td>\n",
              "    </tr>\n",
              "    <tr>\n",
              "      <th>2</th>\n",
              "      <td>3</td>\n",
              "      <td>Female</td>\n",
              "      <td>20</td>\n",
              "      <td>16</td>\n",
              "      <td>6</td>\n",
              "    </tr>\n",
              "    <tr>\n",
              "      <th>3</th>\n",
              "      <td>4</td>\n",
              "      <td>Female</td>\n",
              "      <td>23</td>\n",
              "      <td>16</td>\n",
              "      <td>77</td>\n",
              "    </tr>\n",
              "    <tr>\n",
              "      <th>4</th>\n",
              "      <td>5</td>\n",
              "      <td>Female</td>\n",
              "      <td>31</td>\n",
              "      <td>17</td>\n",
              "      <td>40</td>\n",
              "    </tr>\n",
              "  </tbody>\n",
              "</table>\n",
              "</div>"
            ],
            "text/plain": [
              "   CustomerID  Gender  Age  Annual Income (k$)  Spending Score (1-100)\n",
              "0           1    Male   19                  15                      39\n",
              "1           2    Male   21                  15                      81\n",
              "2           3  Female   20                  16                       6\n",
              "3           4  Female   23                  16                      77\n",
              "4           5  Female   31                  17                      40"
            ]
          },
          "metadata": {},
          "execution_count": 35
        }
      ]
    },
    {
      "cell_type": "markdown",
      "metadata": {
        "id": "KarP33xPTgHA"
      },
      "source": [
        "# **Data Preprocessing**"
      ]
    },
    {
      "cell_type": "code",
      "metadata": {
        "colab": {
          "base_uri": "https://localhost:8080/"
        },
        "id": "eoBnnZSZS8WM",
        "outputId": "009ba9c5-797d-4c03-f842-91f2a8baca54"
      },
      "source": [
        "data.isnull().sum()"
      ],
      "execution_count": null,
      "outputs": [
        {
          "output_type": "execute_result",
          "data": {
            "text/plain": [
              "CustomerID                0\n",
              "Gender                    0\n",
              "Age                       0\n",
              "Annual Income (k$)        0\n",
              "Spending Score (1-100)    0\n",
              "dtype: int64"
            ]
          },
          "metadata": {},
          "execution_count": 36
        }
      ]
    },
    {
      "cell_type": "code",
      "metadata": {
        "colab": {
          "base_uri": "https://localhost:8080/"
        },
        "id": "YsB6gpXZT3Mc",
        "outputId": "e27e3055-c644-4ff6-be8c-0f7b85bba345"
      },
      "source": [
        "data.duplicated().sum()"
      ],
      "execution_count": null,
      "outputs": [
        {
          "output_type": "execute_result",
          "data": {
            "text/plain": [
              "0"
            ]
          },
          "metadata": {},
          "execution_count": 37
        }
      ]
    },
    {
      "cell_type": "code",
      "metadata": {
        "colab": {
          "base_uri": "https://localhost:8080/"
        },
        "id": "WSPrZiPqT7vN",
        "outputId": "da2ade31-a087-42da-c02d-5f55ad96a879"
      },
      "source": [
        "data.info()"
      ],
      "execution_count": null,
      "outputs": [
        {
          "output_type": "stream",
          "name": "stdout",
          "text": [
            "<class 'pandas.core.frame.DataFrame'>\n",
            "RangeIndex: 200 entries, 0 to 199\n",
            "Data columns (total 5 columns):\n",
            " #   Column                  Non-Null Count  Dtype \n",
            "---  ------                  --------------  ----- \n",
            " 0   CustomerID              200 non-null    int64 \n",
            " 1   Gender                  200 non-null    object\n",
            " 2   Age                     200 non-null    int64 \n",
            " 3   Annual Income (k$)      200 non-null    int64 \n",
            " 4   Spending Score (1-100)  200 non-null    int64 \n",
            "dtypes: int64(4), object(1)\n",
            "memory usage: 7.9+ KB\n"
          ]
        }
      ]
    },
    {
      "cell_type": "code",
      "metadata": {
        "id": "r5WykAMJUAN2"
      },
      "source": [
        "# Dropping the columnnID\n",
        "data=data.drop(['CustomerID'],axis=1)"
      ],
      "execution_count": null,
      "outputs": []
    },
    {
      "cell_type": "code",
      "metadata": {
        "colab": {
          "base_uri": "https://localhost:8080/",
          "height": 294
        },
        "id": "8O9cBdxdUN9Y",
        "outputId": "b4e1830d-2e86-40cd-cf1d-a994b8a36708"
      },
      "source": [
        "data.describe()"
      ],
      "execution_count": null,
      "outputs": [
        {
          "output_type": "execute_result",
          "data": {
            "text/html": [
              "<div>\n",
              "<style scoped>\n",
              "    .dataframe tbody tr th:only-of-type {\n",
              "        vertical-align: middle;\n",
              "    }\n",
              "\n",
              "    .dataframe tbody tr th {\n",
              "        vertical-align: top;\n",
              "    }\n",
              "\n",
              "    .dataframe thead th {\n",
              "        text-align: right;\n",
              "    }\n",
              "</style>\n",
              "<table border=\"1\" class=\"dataframe\">\n",
              "  <thead>\n",
              "    <tr style=\"text-align: right;\">\n",
              "      <th></th>\n",
              "      <th>Age</th>\n",
              "      <th>Annual Income (k$)</th>\n",
              "      <th>Spending Score (1-100)</th>\n",
              "    </tr>\n",
              "  </thead>\n",
              "  <tbody>\n",
              "    <tr>\n",
              "      <th>count</th>\n",
              "      <td>200.000000</td>\n",
              "      <td>200.000000</td>\n",
              "      <td>200.000000</td>\n",
              "    </tr>\n",
              "    <tr>\n",
              "      <th>mean</th>\n",
              "      <td>38.850000</td>\n",
              "      <td>60.560000</td>\n",
              "      <td>50.200000</td>\n",
              "    </tr>\n",
              "    <tr>\n",
              "      <th>std</th>\n",
              "      <td>13.969007</td>\n",
              "      <td>26.264721</td>\n",
              "      <td>25.823522</td>\n",
              "    </tr>\n",
              "    <tr>\n",
              "      <th>min</th>\n",
              "      <td>18.000000</td>\n",
              "      <td>15.000000</td>\n",
              "      <td>1.000000</td>\n",
              "    </tr>\n",
              "    <tr>\n",
              "      <th>25%</th>\n",
              "      <td>28.750000</td>\n",
              "      <td>41.500000</td>\n",
              "      <td>34.750000</td>\n",
              "    </tr>\n",
              "    <tr>\n",
              "      <th>50%</th>\n",
              "      <td>36.000000</td>\n",
              "      <td>61.500000</td>\n",
              "      <td>50.000000</td>\n",
              "    </tr>\n",
              "    <tr>\n",
              "      <th>75%</th>\n",
              "      <td>49.000000</td>\n",
              "      <td>78.000000</td>\n",
              "      <td>73.000000</td>\n",
              "    </tr>\n",
              "    <tr>\n",
              "      <th>max</th>\n",
              "      <td>70.000000</td>\n",
              "      <td>137.000000</td>\n",
              "      <td>99.000000</td>\n",
              "    </tr>\n",
              "  </tbody>\n",
              "</table>\n",
              "</div>"
            ],
            "text/plain": [
              "              Age  Annual Income (k$)  Spending Score (1-100)\n",
              "count  200.000000          200.000000              200.000000\n",
              "mean    38.850000           60.560000               50.200000\n",
              "std     13.969007           26.264721               25.823522\n",
              "min     18.000000           15.000000                1.000000\n",
              "25%     28.750000           41.500000               34.750000\n",
              "50%     36.000000           61.500000               50.000000\n",
              "75%     49.000000           78.000000               73.000000\n",
              "max     70.000000          137.000000               99.000000"
            ]
          },
          "metadata": {},
          "execution_count": 40
        }
      ]
    },
    {
      "cell_type": "code",
      "metadata": {
        "id": "29h3KJbAUwe9"
      },
      "source": [
        "data1=data.drop(['Gender'],axis=1)"
      ],
      "execution_count": null,
      "outputs": []
    },
    {
      "cell_type": "code",
      "metadata": {
        "colab": {
          "base_uri": "https://localhost:8080/",
          "height": 697
        },
        "id": "DtvmxyH2UUXh",
        "outputId": "b7fb234a-c9d6-4c1b-f736-058de8a7ee00"
      },
      "source": [
        "# Checking the outliers\n",
        "plt.figure(figsize=(20,8))\n",
        "features=data1.columns\n",
        "for i in range(len(features)):\n",
        "  plt.subplot(1,3,i+1)\n",
        "  sns.boxplot(data1[features[i]])\n",
        "  plt.title(f\"Boxplot of {features[i]} \")\n",
        "  plt.tight_layout()"
      ],
      "execution_count": null,
      "outputs": [
        {
          "output_type": "stream",
          "name": "stderr",
          "text": [
            "/usr/local/lib/python3.7/dist-packages/seaborn/_decorators.py:43: FutureWarning: Pass the following variable as a keyword arg: x. From version 0.12, the only valid positional argument will be `data`, and passing other arguments without an explicit keyword will result in an error or misinterpretation.\n",
            "  FutureWarning\n",
            "/usr/local/lib/python3.7/dist-packages/seaborn/_decorators.py:43: FutureWarning: Pass the following variable as a keyword arg: x. From version 0.12, the only valid positional argument will be `data`, and passing other arguments without an explicit keyword will result in an error or misinterpretation.\n",
            "  FutureWarning\n",
            "/usr/local/lib/python3.7/dist-packages/seaborn/_decorators.py:43: FutureWarning: Pass the following variable as a keyword arg: x. From version 0.12, the only valid positional argument will be `data`, and passing other arguments without an explicit keyword will result in an error or misinterpretation.\n",
            "  FutureWarning\n"
          ]
        },
        {
          "output_type": "display_data",
          "data": {
            "image/png": "[encoded data removed]",
            "text/plain": [
              "<Figure size 1440x576 with 3 Axes>"
            ]
          },
          "metadata": {
            "needs_background": "light"
          }
        }
      ]
    },
    {
      "cell_type": "code",
      "metadata": {
        "colab": {
          "base_uri": "https://localhost:8080/",
          "height": 110
        },
        "id": "-F4ifDNGUsoW",
        "outputId": "ab50dad9-ba90-4c64-c09d-f730519c023e"
      },
      "source": [
        "data[data['Annual Income (k$)']>130]"
      ],
      "execution_count": null,
      "outputs": [
        {
          "output_type": "execute_result",
          "data": {
            "text/html": [
              "<div>\n",
              "<style scoped>\n",
              "    .dataframe tbody tr th:only-of-type {\n",
              "        vertical-align: middle;\n",
              "    }\n",
              "\n",
              "    .dataframe tbody tr th {\n",
              "        vertical-align: top;\n",
              "    }\n",
              "\n",
              "    .dataframe thead th {\n",
              "        text-align: right;\n",
              "    }\n",
              "</style>\n",
              "<table border=\"1\" class=\"dataframe\">\n",
              "  <thead>\n",
              "    <tr style=\"text-align: right;\">\n",
              "      <th></th>\n",
              "      <th>Gender</th>\n",
              "      <th>Age</th>\n",
              "      <th>Annual Income (k$)</th>\n",
              "      <th>Spending Score (1-100)</th>\n",
              "    </tr>\n",
              "  </thead>\n",
              "  <tbody>\n",
              "    <tr>\n",
              "      <th>198</th>\n",
              "      <td>Male</td>\n",
              "      <td>32</td>\n",
              "      <td>137</td>\n",
              "      <td>18</td>\n",
              "    </tr>\n",
              "    <tr>\n",
              "      <th>199</th>\n",
              "      <td>Male</td>\n",
              "      <td>30</td>\n",
              "      <td>137</td>\n",
              "      <td>83</td>\n",
              "    </tr>\n",
              "  </tbody>\n",
              "</table>\n",
              "</div>"
            ],
            "text/plain": [
              "    Gender  Age  Annual Income (k$)  Spending Score (1-100)\n",
              "198   Male   32                 137                      18\n",
              "199   Male   30                 137                      83"
            ]
          },
          "metadata": {},
          "execution_count": 43
        }
      ]
    },
    {
      "cell_type": "code",
      "metadata": {
        "id": "N-PvcRPvV1o5"
      },
      "source": [
        "# Removing the two outlier variables\n",
        "data=data[data['Annual Income (k$)']<=130]"
      ],
      "execution_count": null,
      "outputs": []
    },
    {
      "cell_type": "markdown",
      "metadata": {
        "id": "S7nvFXkpWxTV"
      },
      "source": [
        "# **Exploratory Data Analysis**"
      ]
    },
    {
      "cell_type": "code",
      "metadata": {
        "colab": {
          "base_uri": "https://localhost:8080/",
          "height": 484
        },
        "id": "j3FrCSXlWr9J",
        "outputId": "6a09a82b-4d4f-47a7-ccc9-747463df0405"
      },
      "source": [
        "plt.figure(figsize=(16,8))\n",
        "plt.hist(data['Age'])\n",
        "plt.show()"
      ],
      "execution_count": null,
      "outputs": [
        {
          "output_type": "display_data",
          "data": {
            "image/png": "[encoded data removed]",
            "text/plain": [
              "<Figure size 1152x576 with 1 Axes>"
            ]
          },
          "metadata": {}
        }
      ]
    },
    {
      "cell_type": "code",
      "metadata": {
        "colab": {
          "base_uri": "https://localhost:8080/",
          "height": 484
        },
        "id": "mCFfwtyrWDWE",
        "outputId": "a8979523-4b14-4d89-ff85-666394b3996b"
      },
      "source": [
        "plt.figure(figsize=(16,8))\n",
        "plt.hist(data['Annual Income (k$)'])\n",
        "plt.show()"
      ],
      "execution_count": null,
      "outputs": [
        {
          "output_type": "display_data",
          "data": {
            "image/png": "[encoded data removed]",
            "text/plain": [
              "<Figure size 1152x576 with 1 Axes>"
            ]
          },
          "metadata": {}
        }
      ]
    },
    {
      "cell_type": "code",
      "metadata": {
        "colab": {
          "base_uri": "https://localhost:8080/",
          "height": 484
        },
        "id": "pS9tV-MoWgmA",
        "outputId": "a0e6739e-8007-4fa1-aad1-bd020b058439"
      },
      "source": [
        "plt.figure(figsize=(16,8))\n",
        "plt.hist(data['Spending Score (1-100)'])\n",
        "plt.show()"
      ],
      "execution_count": null,
      "outputs": [
        {
          "output_type": "display_data",
          "data": {
            "image/png": "[encoded data removed]",
            "text/plain": [
              "<Figure size 1152x576 with 1 Axes>"
            ]
          },
          "metadata": {}
        }
      ]
    },
    {
      "cell_type": "code",
      "metadata": {
        "colab": {
          "base_uri": "https://localhost:8080/",
          "height": 557
        },
        "id": "ziXA6K6XWn38",
        "outputId": "a92488ab-df25-4bfa-a1b6-732905acedfc"
      },
      "source": [
        "plt.figure(figsize=(16,8))\n",
        "sns.countplot(data['Gender'])\n",
        "plt.show()"
      ],
      "execution_count": null,
      "outputs": [
        {
          "output_type": "stream",
          "name": "stderr",
          "text": [
            "/usr/local/lib/python3.7/dist-packages/seaborn/_decorators.py:43: FutureWarning: Pass the following variable as a keyword arg: x. From version 0.12, the only valid positional argument will be `data`, and passing other arguments without an explicit keyword will result in an error or misinterpretation.\n",
            "  FutureWarning\n"
          ]
        },
        {
          "output_type": "display_data",
          "data": {
            "image/png": "[encoded data removed]",
            "text/plain": [
              "<Figure size 1152x576 with 1 Axes>"
            ]
          },
          "metadata": {}
        }
      ]
    },
    {
      "cell_type": "markdown",
      "metadata": {
        "id": "XGa9JlStXoYW"
      },
      "source": [
        "# **Model Building**"
      ]
    },
    {
      "cell_type": "code",
      "metadata": {
        "id": "HFLWFwzXW5k8"
      },
      "source": [
        "x=data.iloc[:,[1,2,3]].values"
      ],
      "execution_count": null,
      "outputs": []
    },
    {
      "cell_type": "code",
      "metadata": {
        "colab": {
          "base_uri": "https://localhost:8080/"
        },
        "id": "uRyq0TrvYJyT",
        "outputId": "014a1c24-52bb-4f68-dacf-f8ac50ec5128"
      },
      "source": [
        "x"
      ],
      "execution_count": null,
      "outputs": [
        {
          "output_type": "execute_result",
          "data": {
            "text/plain": [
              "array([[ 19,  15,  39],\n",
              "       [ 21,  15,  81],\n",
              "       [ 20,  16,   6],\n",
              "       [ 23,  16,  77],\n",
              "       [ 31,  17,  40],\n",
              "       [ 22,  17,  76],\n",
              "       [ 35,  18,   6],\n",
              "       [ 23,  18,  94],\n",
              "       [ 64,  19,   3],\n",
              "       [ 30,  19,  72],\n",
              "       [ 67,  19,  14],\n",
              "       [ 35,  19,  99],\n",
              "       [ 58,  20,  15],\n",
              "       [ 24,  20,  77],\n",
              "       [ 37,  20,  13],\n",
              "       [ 22,  20,  79],\n",
              "       [ 35,  21,  35],\n",
              "       [ 20,  21,  66],\n",
              "       [ 52,  23,  29],\n",
              "       [ 35,  23,  98],\n",
              "       [ 35,  24,  35],\n",
              "       [ 25,  24,  73],\n",
              "       [ 46,  25,   5],\n",
              "       [ 31,  25,  73],\n",
              "       [ 54,  28,  14],\n",
              "       [ 29,  28,  82],\n",
              "       [ 45,  28,  32],\n",
              "       [ 35,  28,  61],\n",
              "       [ 40,  29,  31],\n",
              "       [ 23,  29,  87],\n",
              "       [ 60,  30,   4],\n",
              "       [ 21,  30,  73],\n",
              "       [ 53,  33,   4],\n",
              "       [ 18,  33,  92],\n",
              "       [ 49,  33,  14],\n",
              "       [ 21,  33,  81],\n",
              "       [ 42,  34,  17],\n",
              "       [ 30,  34,  73],\n",
              "       [ 36,  37,  26],\n",
              "       [ 20,  37,  75],\n",
              "       [ 65,  38,  35],\n",
              "       [ 24,  38,  92],\n",
              "       [ 48,  39,  36],\n",
              "       [ 31,  39,  61],\n",
              "       [ 49,  39,  28],\n",
              "       [ 24,  39,  65],\n",
              "       [ 50,  40,  55],\n",
              "       [ 27,  40,  47],\n",
              "       [ 29,  40,  42],\n",
              "       [ 31,  40,  42],\n",
              "       [ 49,  42,  52],\n",
              "       [ 33,  42,  60],\n",
              "       [ 31,  43,  54],\n",
              "       [ 59,  43,  60],\n",
              "       [ 50,  43,  45],\n",
              "       [ 47,  43,  41],\n",
              "       [ 51,  44,  50],\n",
              "       [ 69,  44,  46],\n",
              "       [ 27,  46,  51],\n",
              "       [ 53,  46,  46],\n",
              "       [ 70,  46,  56],\n",
              "       [ 19,  46,  55],\n",
              "       [ 67,  47,  52],\n",
              "       [ 54,  47,  59],\n",
              "       [ 63,  48,  51],\n",
              "       [ 18,  48,  59],\n",
              "       [ 43,  48,  50],\n",
              "       [ 68,  48,  48],\n",
              "       [ 19,  48,  59],\n",
              "       [ 32,  48,  47],\n",
              "       [ 70,  49,  55],\n",
              "       [ 47,  49,  42],\n",
              "       [ 60,  50,  49],\n",
              "       [ 60,  50,  56],\n",
              "       [ 59,  54,  47],\n",
              "       [ 26,  54,  54],\n",
              "       [ 45,  54,  53],\n",
              "       [ 40,  54,  48],\n",
              "       [ 23,  54,  52],\n",
              "       [ 49,  54,  42],\n",
              "       [ 57,  54,  51],\n",
              "       [ 38,  54,  55],\n",
              "       [ 67,  54,  41],\n",
              "       [ 46,  54,  44],\n",
              "       [ 21,  54,  57],\n",
              "       [ 48,  54,  46],\n",
              "       [ 55,  57,  58],\n",
              "       [ 22,  57,  55],\n",
              "       [ 34,  58,  60],\n",
              "       [ 50,  58,  46],\n",
              "       [ 68,  59,  55],\n",
              "       [ 18,  59,  41],\n",
              "       [ 48,  60,  49],\n",
              "       [ 40,  60,  40],\n",
              "       [ 32,  60,  42],\n",
              "       [ 24,  60,  52],\n",
              "       [ 47,  60,  47],\n",
              "       [ 27,  60,  50],\n",
              "       [ 48,  61,  42],\n",
              "       [ 20,  61,  49],\n",
              "       [ 23,  62,  41],\n",
              "       [ 49,  62,  48],\n",
              "       [ 67,  62,  59],\n",
              "       [ 26,  62,  55],\n",
              "       [ 49,  62,  56],\n",
              "       [ 21,  62,  42],\n",
              "       [ 66,  63,  50],\n",
              "       [ 54,  63,  46],\n",
              "       [ 68,  63,  43],\n",
              "       [ 66,  63,  48],\n",
              "       [ 65,  63,  52],\n",
              "       [ 19,  63,  54],\n",
              "       [ 38,  64,  42],\n",
              "       [ 19,  64,  46],\n",
              "       [ 18,  65,  48],\n",
              "       [ 19,  65,  50],\n",
              "       [ 63,  65,  43],\n",
              "       [ 49,  65,  59],\n",
              "       [ 51,  67,  43],\n",
              "       [ 50,  67,  57],\n",
              "       [ 27,  67,  56],\n",
              "       [ 38,  67,  40],\n",
              "       [ 40,  69,  58],\n",
              "       [ 39,  69,  91],\n",
              "       [ 23,  70,  29],\n",
              "       [ 31,  70,  77],\n",
              "       [ 43,  71,  35],\n",
              "       [ 40,  71,  95],\n",
              "       [ 59,  71,  11],\n",
              "       [ 38,  71,  75],\n",
              "       [ 47,  71,   9],\n",
              "       [ 39,  71,  75],\n",
              "       [ 25,  72,  34],\n",
              "       [ 31,  72,  71],\n",
              "       [ 20,  73,   5],\n",
              "       [ 29,  73,  88],\n",
              "       [ 44,  73,   7],\n",
              "       [ 32,  73,  73],\n",
              "       [ 19,  74,  10],\n",
              "       [ 35,  74,  72],\n",
              "       [ 57,  75,   5],\n",
              "       [ 32,  75,  93],\n",
              "       [ 28,  76,  40],\n",
              "       [ 32,  76,  87],\n",
              "       [ 25,  77,  12],\n",
              "       [ 28,  77,  97],\n",
              "       [ 48,  77,  36],\n",
              "       [ 32,  77,  74],\n",
              "       [ 34,  78,  22],\n",
              "       [ 34,  78,  90],\n",
              "       [ 43,  78,  17],\n",
              "       [ 39,  78,  88],\n",
              "       [ 44,  78,  20],\n",
              "       [ 38,  78,  76],\n",
              "       [ 47,  78,  16],\n",
              "       [ 27,  78,  89],\n",
              "       [ 37,  78,   1],\n",
              "       [ 30,  78,  78],\n",
              "       [ 34,  78,   1],\n",
              "       [ 30,  78,  73],\n",
              "       [ 56,  79,  35],\n",
              "       [ 29,  79,  83],\n",
              "       [ 19,  81,   5],\n",
              "       [ 31,  81,  93],\n",
              "       [ 50,  85,  26],\n",
              "       [ 36,  85,  75],\n",
              "       [ 42,  86,  20],\n",
              "       [ 33,  86,  95],\n",
              "       [ 36,  87,  27],\n",
              "       [ 32,  87,  63],\n",
              "       [ 40,  87,  13],\n",
              "       [ 28,  87,  75],\n",
              "       [ 36,  87,  10],\n",
              "       [ 36,  87,  92],\n",
              "       [ 52,  88,  13],\n",
              "       [ 30,  88,  86],\n",
              "       [ 58,  88,  15],\n",
              "       [ 27,  88,  69],\n",
              "       [ 59,  93,  14],\n",
              "       [ 35,  93,  90],\n",
              "       [ 37,  97,  32],\n",
              "       [ 32,  97,  86],\n",
              "       [ 46,  98,  15],\n",
              "       [ 29,  98,  88],\n",
              "       [ 41,  99,  39],\n",
              "       [ 30,  99,  97],\n",
              "       [ 54, 101,  24],\n",
              "       [ 28, 101,  68],\n",
              "       [ 41, 103,  17],\n",
              "       [ 36, 103,  85],\n",
              "       [ 34, 103,  23],\n",
              "       [ 32, 103,  69],\n",
              "       [ 33, 113,   8],\n",
              "       [ 38, 113,  91],\n",
              "       [ 47, 120,  16],\n",
              "       [ 35, 120,  79],\n",
              "       [ 45, 126,  28],\n",
              "       [ 32, 126,  74]])"
            ]
          },
          "metadata": {},
          "execution_count": 53
        }
      ]
    },
    {
      "cell_type": "code",
      "metadata": {
        "id": "KW3KOR8IYTjz"
      },
      "source": [
        "wcss=[]\n",
        "for i in range(1,11):\n",
        "  kmeans=KMeans(n_clusters=i,init='k-means++',random_state=42)\n",
        "  kmeans.fit(x)\n",
        "  wcss.append(kmeans.inertia_)"
      ],
      "execution_count": null,
      "outputs": []
    },
    {
      "cell_type": "code",
      "metadata": {
        "colab": {
          "base_uri": "https://localhost:8080/",
          "height": 301
        },
        "id": "UG43QkhjaVPv",
        "outputId": "2aa79671-9203-456a-87a4-076dc559dd4b"
      },
      "source": [
        "# Plotting the Elbow graph\n",
        "sns.set()\n",
        "plt.plot(range(1,11),wcss)\n",
        "plt.title(\"The Elbow point graph\")\n",
        "plt.xlabel('Number of clusters')\n",
        "plt.ylabel('wcss')\n",
        "plt.show()"
      ],
      "execution_count": null,
      "outputs": [
        {
          "output_type": "display_data",
          "data": {
            "image/png": "[encoded data removed]",
            "text/plain": [
              "<Figure size 432x288 with 1 Axes>"
            ]
          },
          "metadata": {}
        }
      ]
    },
    {
      "cell_type": "markdown",
      "metadata": {
        "id": "-Hw39ODqb84m"
      },
      "source": [
        "From the graph we observe that at point 6, we have elbow, that should be the optimum number of clusters."
      ]
    },
    {
      "cell_type": "markdown",
      "metadata": {
        "id": "HW7zyVzWcOBz"
      },
      "source": [
        "# **Let's Train at the number of clusters = 6**"
      ]
    },
    {
      "cell_type": "code",
      "metadata": {
        "id": "EbOsAMFabYv3"
      },
      "source": [
        "kmeans=KMeans(n_clusters=6,init='k-means++',random_state=42)"
      ],
      "execution_count": null,
      "outputs": []
    },
    {
      "cell_type": "code",
      "metadata": {
        "id": "8HciL-QVcdfB"
      },
      "source": [
        "y=kmeans.fit_predict(x)"
      ],
      "execution_count": null,
      "outputs": []
    },
    {
      "cell_type": "code",
      "metadata": {
        "colab": {
          "base_uri": "https://localhost:8080/",
          "height": 626
        },
        "id": "oil4KBKqciCz",
        "outputId": "9c305e4f-229e-40d0-b898-a5e5e276c8a9"
      },
      "source": [
        "plt.figure(figsize=(10,10))\n",
        "# Plotting the clusters\n",
        "plt.scatter(x[y==0,0],x[y==0,1],s=50,c='green',label='Cluster1')\n",
        "plt.scatter(x[y==1,0],x[y==1,1],s=50,c='red',label='Cluster2')\n",
        "plt.scatter(x[y==2,0],x[y==2,1],s=50,c='yellow',label='Cluster3')\n",
        "plt.scatter(x[y==3,0],x[y==3,1],s=50,c='violet',label='Cluster4')\n",
        "plt.scatter(x[y==4,0],x[y==4,1],s=50,c='blue',label='Cluster5')\n",
        "plt.scatter(x[y==5,0],x[y==5,1],s=50,c='brown',label='Cluster6')\n",
        "# Plotting the centroid\n",
        "plt.scatter(kmeans.cluster_centers_[:,0],kmeans.cluster_centers_[:,1],s=100,c='cyan',label='Centroids')\n",
        "plt.title(\"Customers Groups\")\n",
        "plt.xlabel(\"Annual Income\")\n",
        "plt.ylabel(\"Spending Score\")\n",
        "plt.show()"
      ],
      "execution_count": null,
      "outputs": [
        {
          "output_type": "display_data",
          "data": {
            "image/png": "[encoded data removed]",
            "text/plain": [
              "<Figure size 720x720 with 1 Axes>"
            ]
          },
          "metadata": {}
        }
      ]
    },
    {
      "cell_type": "code",
      "metadata": {
        "id": "6y1XM-GhfH9d"
      },
      "source": [
        ""
      ],
      "execution_count": null,
      "outputs": []
    }
  ]
}